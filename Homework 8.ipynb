{
 "cells": [
  {
   "cell_type": "code",
   "execution_count": 10,
   "id": "33763207",
   "metadata": {},
   "outputs": [
    {
     "name": "stdout",
     "output_type": "stream",
     "text": [
      "1.52032\n",
      "1.56544\n",
      "1.5513599999999999\n",
      "1.51328\n",
      "1.51328\n",
      "1.6480000000000001\n",
      "2.0563200000000004\n",
      "2.9270400000000003\n",
      "4.50656\n"
     ]
    }
   ],
   "source": [
    "##Trapezoidal rule\n",
    "\n",
    "def f(x):\n",
    "    return x**4 - 2*x +1\n",
    "N=10\n",
    "a=0.0\n",
    "b=2.0\n",
    "h=(b-a)/N\n",
    "s=0.5*f(a) +0.5 *f(b)\n",
    "for k in range (1,N):\n",
    "    s+=f(a+k*h)\n",
    "    print(h*s)"
   ]
  },
  {
   "cell_type": "markdown",
   "id": "d3083a82",
   "metadata": {},
   "source": [
    "The trapezoidal rule is the simplest of numerical integration methods, taking only a few lines of code as we've seen, but it is often perfectly adequate for calculations where no great accuracy is required. It happens frequently in physics calculations that we don't need an answer accurate to many significant figures and in such cases the ease and simplicity of the trapezoidal rule can make it the method of choice. One should not turn up one's nose at simple methods like this; they play an important role and are used widely. Moreover, the trapezoidal rule is the basis for several other more sophisticated methods of evaluating integrals, including the adaptive methods"
   ]
  },
  {
   "cell_type": "code",
   "execution_count": 11,
   "id": "fc59a67e",
   "metadata": {
    "scrolled": true
   },
   "outputs": [
    {
     "name": "stdout",
     "output_type": "stream",
     "text": [
      "Input value for a: 1\n",
      "Input value for b: 4\n",
      "Input value for c: 1\n",
      "x is  -0.2679491924311228 , -3.732050807568877\n"
     ]
    }
   ],
   "source": [
    "##question 1 part a\n",
    "\n",
    "import numpy as np\n",
    "\n",
    "a=float(input(\"Input value for a: \"))\n",
    "b=float(input(\"Input value for b: \"))\n",
    "c=float(input(\"Input value for c: \"))\n",
    "\n",
    "plussqrta = (-b+ np.sqrt((b**2)-(4*a*c)))/(2*a) \n",
    "minussqrta = (-b- np.sqrt((b**2)-(4*a*c)))/(2*a)\n",
    "\n",
    "print(\"x is \", plussqrta,\",\", minussqrta)"
   ]
  },
  {
   "cell_type": "code",
   "execution_count": 12,
   "id": "ce32b583",
   "metadata": {},
   "outputs": [
    {
     "name": "stdout",
     "output_type": "stream",
     "text": [
      "x is  -9.999894245993346e-07 -999999.999999\n"
     ]
    }
   ],
   "source": [
    "##question 1 part a with given values of a, b, c:\n",
    "\n",
    "import numpy as np\n",
    "\n",
    "a=0.001\n",
    "b=1000\n",
    "c=0.001\n",
    "\n",
    "plussqrta_given = (-b+ np.sqrt((b**2)-(4*a*c)))/(2*a) \n",
    "minussqrta_given = (-b- np.sqrt((b**2)-(4*a*c)))/(2*a)\n",
    "\n",
    "print(\"x is \", plussqrta_given, minussqrta_given)"
   ]
  },
  {
   "cell_type": "code",
   "execution_count": 13,
   "id": "c3a97dc4",
   "metadata": {},
   "outputs": [
    {
     "name": "stdout",
     "output_type": "stream",
     "text": [
      "Input value for a: 1\n",
      "Input value for b: 4\n",
      "Input value for c: 1\n",
      "x is  -0.2679491924311227 , -3.732050807568876\n"
     ]
    }
   ],
   "source": [
    "##question 1 part b\n",
    "\n",
    "import numpy as np\n",
    "\n",
    "a=float(input(\"Input value for a: \"))\n",
    "b=float(input(\"Input value for b: \"))\n",
    "c=float(input(\"Input value for c: \"))\n",
    "\n",
    "plussqrtb = ((2*c)/(-b-(np.sqrt((b**2)-4*a*c)))) \n",
    "minussqrtb = ((2*c)/(-b+(np.sqrt((b**2)-4*a*c))))\n",
    "\n",
    "print(\"x is \", plussqrtb,\",\", minussqrtb)"
   ]
  },
  {
   "cell_type": "code",
   "execution_count": 14,
   "id": "8b9e28e1",
   "metadata": {},
   "outputs": [
    {
     "name": "stdout",
     "output_type": "stream",
     "text": [
      "x is  -1.000000000001e-06 , -1000010.5755125057\n"
     ]
    }
   ],
   "source": [
    "##question 1 part b with given values of a, b, c\n",
    "\n",
    "import numpy as np\n",
    "\n",
    "a=0.001\n",
    "b=1000\n",
    "c=0.001\n",
    "\n",
    "plussqrtb_given = ((2*c)/(-b-(np.sqrt((b**2)-4*a*c)))) \n",
    "minussqrtb_given = ((2*c)/(-b+(np.sqrt((b**2)-4*a*c))))\n",
    "\n",
    "print(\"x is \", plussqrtb_given,\",\", minussqrtb_given)"
   ]
  },
  {
   "cell_type": "raw",
   "id": "5d9809b8",
   "metadata": {},
   "source": [
    "explanation of question 1 part a and b:\n",
    "The answers from part a and b are slightly different due to rounding that the computer does during calculation of the two answers. \n",
    "\n",
    "For part a, using the normal quadratic equation we've learned, the first value of x (given by: \n",
    "(-b-sqrt(b^2-4ac))/2a) is not very accurate. This is due to the subtraction of the square root, which is precisely sqrt(999,999.999996), This number is very close to 1,000, so when you subtract 1000 from -1000, the number the computer gives due to significant figures is -2000; it truncates the decimal points because the value for b is large and very similar to the value from the square root. For the other root of x, the other root is given by (from the numerator) -1000+sqrt(999,999.999996). This subtraction accounts for the decimal places, because the only significant figures left after the subtraction will be coming from the decimal places. \n",
    "\n",
    "Similarly, when using the different version of the quadratic formula from part b, the value given for x is accurate when taking the value from (x=2c/(-b+sqrt(b^2-4ac))). This is because -1000+sqrt(999,999.999996) will give a value whose significant figures all come from the decimal place. When finding the other root of x from this equation by doing -1000-sqrt(999,999.999996), the computer sees that these numbers will give a number very close to -2000; the computer truncates the decimal places behind the value of -2000. "
   ]
  },
  {
   "cell_type": "code",
   "execution_count": 15,
   "id": "02d0d6a0",
   "metadata": {},
   "outputs": [
    {
     "name": "stdout",
     "output_type": "stream",
     "text": [
      "Input value for a: 1\n",
      "Input value for b: 4\n",
      "Input value for c: 1\n",
      "x is  -0.2679491924311227 , -3.732050807568877\n"
     ]
    }
   ],
   "source": [
    "a=float(input(\"Input value for a: \"))\n",
    "b=float(input(\"Input value for b: \"))\n",
    "c=float(input(\"Input value for c: \"))\n",
    "\n",
    "\n",
    "plussqrtb = ((2*c)/(-b-(np.sqrt((b**2)-4*a*c)))) \n",
    "minussqrta = (-b- np.sqrt((b**2)-(4*a*c)))/(2*a)\n",
    "print(\"x is \", plussqrtb,\",\", minussqrta)"
   ]
  },
  {
   "cell_type": "code",
   "execution_count": 16,
   "id": "20b6e2e1",
   "metadata": {},
   "outputs": [
    {
     "name": "stdout",
     "output_type": "stream",
     "text": [
      "x is  -1.000000000001e-06 , -999999.999999\n"
     ]
    }
   ],
   "source": [
    "a=0.001\n",
    "b=1000\n",
    "c=0.001\n",
    "\n",
    "\n",
    "plussqrtb_given = ((2*c)/(-b-(np.sqrt((b**2)-4*a*c)))) \n",
    "minussqrta_given = (-b- np.sqrt((b**2)-(4*a*c)))/(2*a)\n",
    "print(\"x is \", plussqrtb_given,\",\", minussqrta_given)"
   ]
  },
  {
   "cell_type": "code",
   "execution_count": 18,
   "id": "2eacbd6f",
   "metadata": {},
   "outputs": [
    {
     "name": "stdout",
     "output_type": "stream",
     "text": [
      "4.400426666666667 4.400000042666668 4.400000000004267\n"
     ]
    }
   ],
   "source": [
    "##question 2: write a function that implements integration using simpsons rule. Use it to evaluate function \n",
    "##int(x^4-2x+1)dx from 0 to 2 using slices 10, 100, 1000\n",
    "\n",
    "import numpy as np\n",
    "\n",
    "def f(x):\n",
    "    return x**4-(2*x)+1\n",
    "    \n",
    "def simpson(f, n):\n",
    "    a=0\n",
    "    b=2\n",
    "    h=(b-a)/n\n",
    "    k,j=0,0\n",
    "    for i in range(1, n//2 + 1, 1):\n",
    "        k += f(a+((2*i-1)*h))\n",
    "    for i in range(1, n//2, 1):\n",
    "        j += f(a+(2*i*h))\n",
    "    return (h/3)*(f(a)+f(b)+(4*k)+(2*j))\n",
    "    \n",
    "print(simpson(f, 10), simpson(f, 100), simpson(f,1000))"
   ]
  },
  {
   "cell_type": "raw",
   "id": "c438995d",
   "metadata": {},
   "source": [
    "Debyes theory of solids gives the heat capacity of a solid at temperature T to be Cv=9V(rho)(Boltzmann constant)(T/thetaD)^3 integral from 0 to thetaD/T (x^4e^x/(e^x-1)^2)dx where V is the volume of the solid, rho is the number density of atoms, kb is boltzann constant, and theta d is the debye temperature.\n",
    "\n",
    "#part a of 3: write Cv(T) that calculates Cv for a given temperature, where V=1000 cm^3, rho=6.022E28 m^-3 and theta D=428K. Use trapezoidal rule with N = 1000"
   ]
  },
  {
   "cell_type": "code",
   "execution_count": 17,
   "id": "109f3897",
   "metadata": {},
   "outputs": [
    {
     "name": "stdout",
     "output_type": "stream",
     "text": [
      "0.0028934723587286074\n"
     ]
    }
   ],
   "source": [
    "import numpy as np\n",
    "\n",
    "V=0.001\n",
    "kB=1.38064852e-28\n",
    "thetaD=428\n",
    "rho=6.022e28\n",
    "T=50\n",
    "\n",
    "def f(x):\n",
    "    return (x**4)*(np.exp(x))/(((np.exp(x)-1)**2))\n",
    "N=1000\n",
    "a=0\n",
    "b=(thetaD/T)\n",
    "h=(b-a)/N\n",
    "s= 0.5 *f(b)\n",
    "for k in range (1,N):\n",
    "    s+=f(a+k*h)\n",
    "\n",
    "print(9*V*rho*kB*((T/thetaD)**3)*h*s)"
   ]
  },
  {
   "cell_type": "code",
   "execution_count": 21,
   "id": "0230a426",
   "metadata": {},
   "outputs": [
    {
     "name": "stdout",
     "output_type": "stream",
     "text": [
      "1.52032\n",
      "1.56544\n",
      "1.5513599999999999\n",
      "1.51328\n",
      "1.51328\n",
      "1.6480000000000001\n",
      "2.0563200000000004\n",
      "2.9270400000000003\n",
      "4.50656\n"
     ]
    }
   ],
   "source": [
    "def f(x):\n",
    "    return x**4 - 2*x +1\n",
    "N=10\n",
    "a=0.0\n",
    "b=2.0\n",
    "h=(b-a)/N\n",
    "s=0.5*f(a) +0.5 *f(b)\n",
    "for k in range (1,N):\n",
    "    s+=f(a+k*h)\n",
    "    print(h*s)"
   ]
  },
  {
   "cell_type": "code",
   "execution_count": 3,
   "id": "9b789546",
   "metadata": {},
   "outputs": [
    {
     "data": {
      "text/plain": [
       "Text(0, 0.5, 'Cv')"
      ]
     },
     "execution_count": 3,
     "metadata": {},
     "output_type": "execute_result"
    },
    {
     "data": {
      "image/png": "[encoded data removed]",
      "text/plain": [
       "<Figure size 432x288 with 1 Axes>"
      ]
     },
     "metadata": {
      "needs_background": "light"
     },
     "output_type": "display_data"
    }
   ],
   "source": [
    "import numpy as np\n",
    "\n",
    "V=0.001 #volume in m^3\n",
    "kB=1.38064852e-28 #Boltzmann constan (JK)\n",
    "thetaD=428 \n",
    "rho=6.022e28 #density m**-3\n",
    "a=[]\n",
    "b=[]\n",
    "\n",
    "def Cv(T):\n",
    "    def f(x):\n",
    "        return (x**4)*(np.exp(x))/(((np.exp(x)-1)**2))\n",
    "    N=1000\n",
    "    a=0\n",
    "    b=(thetaD/T)\n",
    "    h=(b-a)/N\n",
    "    s= 0.5 *f(b)\n",
    "    for k in range (1,N):\n",
    "        s+=f(a+k*h)\n",
    "\n",
    "    return (9*V*rho*kB*((T/thetaD)**3)*h*s)\n",
    "for T in range(5,501):\n",
    "    a.append(T)\n",
    "    b.append(Cv(T))\n",
    "\n",
    "from matplotlib import pyplot as plt  \n",
    "fig=plt.figure()\n",
    "ax=fig.add_subplot(111)\n",
    "ax.scatter(a,b,s=5,c='m',alpha=0.5)\n",
    "ax.set_xlabel(\"Temperature\")\n",
    "ax.set_ylabel(\"Cv\")\n",
    "\n"
   ]
  },
  {
   "cell_type": "code",
   "execution_count": null,
   "id": "766f1f14",
   "metadata": {},
   "outputs": [],
   "source": []
  }
 ],
 "metadata": {
  "kernelspec": {
   "display_name": "Python 3",
   "language": "python",
   "name": "python3"
  },
  "language_info": {
   "codemirror_mode": {
    "name": "ipython",
    "version": 3
   },
   "file_extension": ".py",
   "mimetype": "text/x-python",
   "name": "python",
   "nbconvert_exporter": "python",
   "pygments_lexer": "ipython3",
   "version": "3.8.8"
  }
 },
 "nbformat": 4,
 "nbformat_minor": 5
}
